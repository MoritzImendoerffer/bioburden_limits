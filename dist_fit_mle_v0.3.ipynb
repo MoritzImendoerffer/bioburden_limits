{
 "cells": [
  {
   "cell_type": "code",
   "execution_count": 1,
   "id": "6d6dbb54",
   "metadata": {},
   "outputs": [],
   "source": [
    "from scipy import stats\n",
    "import pandas as pd\n",
    "import numpy as np\n",
    "import statsmodels.api as sm\n",
    "from statsmodels.formula.api import glm\n",
    "from matplotlib import pyplot as plt"
   ]
  },
  {
   "cell_type": "markdown",
   "id": "82b6f26d-83bd-4128-94ec-5dfa7166439b",
   "metadata": {},
   "source": [
    "https://towardsdatascience.com/negative-binomial-regression-f99031bb25b4"
   ]
  },
  {
   "cell_type": "code",
   "execution_count": 2,
   "id": "e8239f66",
   "metadata": {},
   "outputs": [
    {
     "data": {
      "text/html": [
       "<div>\n",
       "<style scoped>\n",
       "    .dataframe tbody tr th:only-of-type {\n",
       "        vertical-align: middle;\n",
       "    }\n",
       "\n",
       "    .dataframe tbody tr th {\n",
       "        vertical-align: top;\n",
       "    }\n",
       "\n",
       "    .dataframe thead th {\n",
       "        text-align: right;\n",
       "    }\n",
       "</style>\n",
       "<table border=\"1\" class=\"dataframe\">\n",
       "  <thead>\n",
       "    <tr style=\"text-align: right;\">\n",
       "      <th></th>\n",
       "      <th>Batch</th>\n",
       "      <th>Counts</th>\n",
       "    </tr>\n",
       "  </thead>\n",
       "  <tbody>\n",
       "    <tr>\n",
       "      <th>0</th>\n",
       "      <td>B399563</td>\n",
       "      <td>0</td>\n",
       "    </tr>\n",
       "    <tr>\n",
       "      <th>1</th>\n",
       "      <td>B399564</td>\n",
       "      <td>0</td>\n",
       "    </tr>\n",
       "    <tr>\n",
       "      <th>2</th>\n",
       "      <td>B399565</td>\n",
       "      <td>0</td>\n",
       "    </tr>\n",
       "    <tr>\n",
       "      <th>3</th>\n",
       "      <td>B401503</td>\n",
       "      <td>0</td>\n",
       "    </tr>\n",
       "    <tr>\n",
       "      <th>4</th>\n",
       "      <td>B401504</td>\n",
       "      <td>66</td>\n",
       "    </tr>\n",
       "  </tbody>\n",
       "</table>\n",
       "</div>"
      ],
      "text/plain": [
       "     Batch  Counts\n",
       "0  B399563       0\n",
       "1  B399564       0\n",
       "2  B399565       0\n",
       "3  B401503       0\n",
       "4  B401504      66"
      ]
     },
     "execution_count": 2,
     "metadata": {},
     "output_type": "execute_result"
    }
   ],
   "source": [
    "df = pd.read_excel('data.xlsx', engine='openpyxl')\n",
    "df.columns = ['Batch', 'Counts']\n",
    "df.head()"
   ]
  },
  {
   "cell_type": "code",
   "execution_count": 3,
   "id": "f0069b05-a84e-424f-a192-edb9e8ea4dc4",
   "metadata": {},
   "outputs": [
    {
     "data": {
      "text/plain": [
       "[<matplotlib.lines.Line2D at 0x7f678b6d66a0>]"
      ]
     },
     "execution_count": 3,
     "metadata": {},
     "output_type": "execute_result"
    },
    {
     "data": {
      "image/png": "[encoded data removed]",
      "text/plain": [
       "<Figure size 432x288 with 1 Axes>"
      ]
     },
     "metadata": {
      "needs_background": "light"
     },
     "output_type": "display_data"
    }
   ],
   "source": [
    "plt.plot(df.Counts, 'o')"
   ]
  },
  {
   "cell_type": "code",
   "execution_count": 4,
   "id": "a92253b0",
   "metadata": {},
   "outputs": [
    {
     "data": {
      "image/png": "[encoded data removed]",
      "text/plain": [
       "<Figure size 432x288 with 1 Axes>"
      ]
     },
     "metadata": {
      "needs_background": "light"
     },
     "output_type": "display_data"
    }
   ],
   "source": [
    "ax = df.hist(column='Counts')"
   ]
  },
  {
   "cell_type": "code",
   "execution_count": 5,
   "id": "5ea153fb",
   "metadata": {},
   "outputs": [
    {
     "data": {
      "text/html": [
       "<table class=\"simpletable\">\n",
       "<caption>Generalized Linear Model Regression Results</caption>\n",
       "<tr>\n",
       "  <th>Dep. Variable:</th>        <td>Counts</td>      <th>  No. Observations:  </th>  <td>    57</td> \n",
       "</tr>\n",
       "<tr>\n",
       "  <th>Model:</th>                  <td>GLM</td>       <th>  Df Residuals:      </th>  <td>    56</td> \n",
       "</tr>\n",
       "<tr>\n",
       "  <th>Model Family:</th>    <td>NegativeBinomial</td> <th>  Df Model:          </th>  <td>     0</td> \n",
       "</tr>\n",
       "<tr>\n",
       "  <th>Link Function:</th>          <td>log</td>       <th>  Scale:             </th> <td>  1.0000</td>\n",
       "</tr>\n",
       "<tr>\n",
       "  <th>Method:</th>                <td>IRLS</td>       <th>  Log-Likelihood:    </th> <td> -200.79</td>\n",
       "</tr>\n",
       "<tr>\n",
       "  <th>Date:</th>            <td>Tue, 04 Jan 2022</td> <th>  Deviance:          </th> <td>  238.49</td>\n",
       "</tr>\n",
       "<tr>\n",
       "  <th>Time:</th>                <td>21:10:18</td>     <th>  Pearson chi2:      </th>  <td>  193.</td> \n",
       "</tr>\n",
       "<tr>\n",
       "  <th>No. Iterations:</th>          <td>6</td>        <th>                     </th>     <td> </td>   \n",
       "</tr>\n",
       "<tr>\n",
       "  <th>Covariance Type:</th>     <td>nonrobust</td>    <th>                     </th>     <td> </td>   \n",
       "</tr>\n",
       "</table>\n",
       "<table class=\"simpletable\">\n",
       "<tr>\n",
       "      <td></td>         <th>coef</th>     <th>std err</th>      <th>z</th>      <th>P>|z|</th>  <th>[0.025</th>    <th>0.975]</th>  \n",
       "</tr>\n",
       "<tr>\n",
       "  <th>Intercept</th> <td>    2.4820</td> <td>    0.138</td> <td>   18.001</td> <td> 0.000</td> <td>    2.212</td> <td>    2.752</td>\n",
       "</tr>\n",
       "</table>"
      ],
      "text/plain": [
       "<class 'statsmodels.iolib.summary.Summary'>\n",
       "\"\"\"\n",
       "                 Generalized Linear Model Regression Results                  \n",
       "==============================================================================\n",
       "Dep. Variable:                 Counts   No. Observations:                   57\n",
       "Model:                            GLM   Df Residuals:                       56\n",
       "Model Family:        NegativeBinomial   Df Model:                            0\n",
       "Link Function:                    log   Scale:                          1.0000\n",
       "Method:                          IRLS   Log-Likelihood:                -200.79\n",
       "Date:                Tue, 04 Jan 2022   Deviance:                       238.49\n",
       "Time:                        21:10:18   Pearson chi2:                     193.\n",
       "No. Iterations:                     6                                         \n",
       "Covariance Type:            nonrobust                                         \n",
       "==============================================================================\n",
       "                 coef    std err          z      P>|z|      [0.025      0.975]\n",
       "------------------------------------------------------------------------------\n",
       "Intercept      2.4820      0.138     18.001      0.000       2.212       2.752\n",
       "==============================================================================\n",
       "\"\"\""
      ]
     },
     "execution_count": 5,
     "metadata": {},
     "output_type": "execute_result"
    }
   ],
   "source": [
    "res = glm(\n",
    "    'Counts ~ 1', data=df, family=sm.families.NegativeBinomial()\n",
    ").fit()\n",
    "res.summary()"
   ]
  },
  {
   "cell_type": "code",
   "execution_count": 6,
   "id": "4aacae9d-c60e-4768-9abd-2af6bcebed37",
   "metadata": {},
   "outputs": [
    {
     "data": {
      "text/html": [
       "<table class=\"simpletable\">\n",
       "<caption>Generalized Linear Model Regression Results</caption>\n",
       "<tr>\n",
       "  <th>Dep. Variable:</th>        <td>Counts</td>      <th>  No. Observations:  </th>  <td>    57</td> \n",
       "</tr>\n",
       "<tr>\n",
       "  <th>Model:</th>                  <td>GLM</td>       <th>  Df Residuals:      </th>  <td>    56</td> \n",
       "</tr>\n",
       "<tr>\n",
       "  <th>Model Family:</th>         <td>Poisson</td>     <th>  Df Model:          </th>  <td>     0</td> \n",
       "</tr>\n",
       "<tr>\n",
       "  <th>Link Function:</th>          <td>log</td>       <th>  Scale:             </th> <td>  1.0000</td>\n",
       "</tr>\n",
       "<tr>\n",
       "  <th>Method:</th>                <td>IRLS</td>       <th>  Log-Likelihood:    </th> <td> -992.77</td>\n",
       "</tr>\n",
       "<tr>\n",
       "  <th>Date:</th>            <td>Tue, 04 Jan 2022</td> <th>  Deviance:          </th> <td>  1887.9</td>\n",
       "</tr>\n",
       "<tr>\n",
       "  <th>Time:</th>                <td>21:10:22</td>     <th>  Pearson chi2:      </th> <td>2.50e+03</td>\n",
       "</tr>\n",
       "<tr>\n",
       "  <th>No. Iterations:</th>          <td>5</td>        <th>                     </th>     <td> </td>   \n",
       "</tr>\n",
       "<tr>\n",
       "  <th>Covariance Type:</th>     <td>nonrobust</td>    <th>                     </th>     <td> </td>   \n",
       "</tr>\n",
       "</table>\n",
       "<table class=\"simpletable\">\n",
       "<tr>\n",
       "      <td></td>         <th>coef</th>     <th>std err</th>      <th>z</th>      <th>P>|z|</th>  <th>[0.025</th>    <th>0.975]</th>  \n",
       "</tr>\n",
       "<tr>\n",
       "  <th>Intercept</th> <td>    2.4820</td> <td>    0.038</td> <td>   64.817</td> <td> 0.000</td> <td>    2.407</td> <td>    2.557</td>\n",
       "</tr>\n",
       "</table>"
      ],
      "text/plain": [
       "<class 'statsmodels.iolib.summary.Summary'>\n",
       "\"\"\"\n",
       "                 Generalized Linear Model Regression Results                  \n",
       "==============================================================================\n",
       "Dep. Variable:                 Counts   No. Observations:                   57\n",
       "Model:                            GLM   Df Residuals:                       56\n",
       "Model Family:                 Poisson   Df Model:                            0\n",
       "Link Function:                    log   Scale:                          1.0000\n",
       "Method:                          IRLS   Log-Likelihood:                -992.77\n",
       "Date:                Tue, 04 Jan 2022   Deviance:                       1887.9\n",
       "Time:                        21:10:22   Pearson chi2:                 2.50e+03\n",
       "No. Iterations:                     5                                         \n",
       "Covariance Type:            nonrobust                                         \n",
       "==============================================================================\n",
       "                 coef    std err          z      P>|z|      [0.025      0.975]\n",
       "------------------------------------------------------------------------------\n",
       "Intercept      2.4820      0.038     64.817      0.000       2.407       2.557\n",
       "==============================================================================\n",
       "\"\"\""
      ]
     },
     "execution_count": 6,
     "metadata": {},
     "output_type": "execute_result"
    }
   ],
   "source": [
    "res1 = glm(\n",
    "    'Counts ~ 1', data=df, family=sm.families.Poisson()\n",
    ").fit()\n",
    "res1.summary()"
   ]
  },
  {
   "cell_type": "code",
   "execution_count": 84,
   "id": "260581f8-9ddd-4324-8058-8c39bf50e064",
   "metadata": {},
   "outputs": [],
   "source": [
    "from statsmodels.discrete.discrete_model import NegativeBinomial\n",
    "from statsmodels.discrete.discrete_model import Poisson\n",
    "from statsmodels.discrete.count_model import ZeroInflatedNegativeBinomialP as sm_zinb"
   ]
  },
  {
   "cell_type": "code",
   "execution_count": 97,
   "id": "021628e8-8c91-473e-831a-329dd0cbbefe",
   "metadata": {},
   "outputs": [
    {
     "name": "stdout",
     "output_type": "stream",
     "text": [
      "Optimization terminated successfully.\n",
      "         Current function value: 2.326319\n",
      "         Iterations: 7\n",
      "         Function evaluations: 8\n",
      "         Gradient evaluations: 8\n",
      "Optimization terminated successfully.\n",
      "         Current function value: 17.416940\n",
      "         Iterations 1\n",
      "Optimization terminated successfully.\n",
      "         Current function value: 2.231771\n",
      "         Iterations: 33\n",
      "         Function evaluations: 40\n",
      "         Gradient evaluations: 40\n"
     ]
    }
   ],
   "source": [
    "x = np.ones(len(df))\n",
    "nb_model = NegativeBinomial(endog=df['Counts'], exog=x).fit()\n",
    "ps = Poisson(endog=df['Counts'], exog=x).fit()\n",
    "zinb_model = sm_zinb(endog=df['Counts'], exog=x, \n",
    "               inflation='probit',\n",
    "               p=1).fit()"
   ]
  },
  {
   "cell_type": "code",
   "execution_count": 98,
   "id": "786f86e5-d521-4fce-ad2a-f180f21d24ea",
   "metadata": {},
   "outputs": [
    {
     "data": {
      "text/html": [
       "<table class=\"simpletable\">\n",
       "<caption>NegativeBinomial Regression Results</caption>\n",
       "<tr>\n",
       "  <th>Dep. Variable:</th>        <td>Counts</td>      <th>  No. Observations:  </th>  <td>    57</td>  \n",
       "</tr>\n",
       "<tr>\n",
       "  <th>Model:</th>           <td>NegativeBinomial</td> <th>  Df Residuals:      </th>  <td>    56</td>  \n",
       "</tr>\n",
       "<tr>\n",
       "  <th>Method:</th>                 <td>MLE</td>       <th>  Df Model:          </th>  <td>     0</td>  \n",
       "</tr>\n",
       "<tr>\n",
       "  <th>Date:</th>            <td>Thu, 06 Jan 2022</td> <th>  Pseudo R-squ.:     </th> <td>4.136e-11</td>\n",
       "</tr>\n",
       "<tr>\n",
       "  <th>Time:</th>                <td>00:09:39</td>     <th>  Log-Likelihood:    </th> <td> -132.60</td> \n",
       "</tr>\n",
       "<tr>\n",
       "  <th>converged:</th>             <td>True</td>       <th>  LL-Null:           </th> <td> -132.60</td> \n",
       "</tr>\n",
       "<tr>\n",
       "  <th>Covariance Type:</th>     <td>nonrobust</td>    <th>  LLR p-value:       </th>  <td>   nan</td>  \n",
       "</tr>\n",
       "</table>\n",
       "<table class=\"simpletable\">\n",
       "<tr>\n",
       "    <td></td>       <th>coef</th>     <th>std err</th>      <th>z</th>      <th>P>|z|</th>  <th>[0.025</th>    <th>0.975]</th>  \n",
       "</tr>\n",
       "<tr>\n",
       "  <th>const</th> <td>    2.4820</td> <td>    0.428</td> <td>    5.799</td> <td> 0.000</td> <td>    1.643</td> <td>    3.321</td>\n",
       "</tr>\n",
       "<tr>\n",
       "  <th>alpha</th> <td>   10.3564</td> <td>    2.694</td> <td>    3.845</td> <td> 0.000</td> <td>    5.077</td> <td>   15.636</td>\n",
       "</tr>\n",
       "</table>"
      ],
      "text/plain": [
       "<class 'statsmodels.iolib.summary.Summary'>\n",
       "\"\"\"\n",
       "                     NegativeBinomial Regression Results                      \n",
       "==============================================================================\n",
       "Dep. Variable:                 Counts   No. Observations:                   57\n",
       "Model:               NegativeBinomial   Df Residuals:                       56\n",
       "Method:                           MLE   Df Model:                            0\n",
       "Date:                Thu, 06 Jan 2022   Pseudo R-squ.:               4.136e-11\n",
       "Time:                        00:09:39   Log-Likelihood:                -132.60\n",
       "converged:                       True   LL-Null:                       -132.60\n",
       "Covariance Type:            nonrobust   LLR p-value:                       nan\n",
       "==============================================================================\n",
       "                 coef    std err          z      P>|z|      [0.025      0.975]\n",
       "------------------------------------------------------------------------------\n",
       "const          2.4820      0.428      5.799      0.000       1.643       3.321\n",
       "alpha         10.3564      2.694      3.845      0.000       5.077      15.636\n",
       "==============================================================================\n",
       "\"\"\""
      ]
     },
     "execution_count": 98,
     "metadata": {},
     "output_type": "execute_result"
    }
   ],
   "source": [
    "nb_model.summary()"
   ]
  },
  {
   "cell_type": "code",
   "execution_count": 99,
   "id": "92e2c44a-928a-4588-b4f3-6a2044d74dd7",
   "metadata": {},
   "outputs": [
    {
     "data": {
      "text/html": [
       "<table class=\"simpletable\">\n",
       "<caption>ZeroInflatedNegativeBinomialP Regression Results</caption>\n",
       "<tr>\n",
       "  <th>Dep. Variable:</th>              <td>Counts</td>             <th>  No. Observations:  </th>  <td>    57</td>  \n",
       "</tr>\n",
       "<tr>\n",
       "  <th>Model:</th>           <td>ZeroInflatedNegativeBinomialP</td> <th>  Df Residuals:      </th>  <td>    56</td>  \n",
       "</tr>\n",
       "<tr>\n",
       "  <th>Method:</th>                       <td>MLE</td>              <th>  Df Model:          </th>  <td>     0</td>  \n",
       "</tr>\n",
       "<tr>\n",
       "  <th>Date:</th>                  <td>Thu, 06 Jan 2022</td>        <th>  Pseudo R-squ.:     </th> <td>6.547e-13</td>\n",
       "</tr>\n",
       "<tr>\n",
       "  <th>Time:</th>                      <td>00:09:43</td>            <th>  Log-Likelihood:    </th> <td> -127.21</td> \n",
       "</tr>\n",
       "<tr>\n",
       "  <th>converged:</th>                   <td>True</td>              <th>  LL-Null:           </th> <td> -127.21</td> \n",
       "</tr>\n",
       "<tr>\n",
       "  <th>Covariance Type:</th>           <td>nonrobust</td>           <th>  LLR p-value:       </th>  <td>   nan</td>  \n",
       "</tr>\n",
       "</table>\n",
       "<table class=\"simpletable\">\n",
       "<tr>\n",
       "        <td></td>           <th>coef</th>     <th>std err</th>      <th>z</th>      <th>P>|z|</th>  <th>[0.025</th>    <th>0.975]</th>  \n",
       "</tr>\n",
       "<tr>\n",
       "  <th>inflate_const</th> <td>    0.3592</td> <td>    0.175</td> <td>    2.050</td> <td> 0.040</td> <td>    0.016</td> <td>    0.703</td>\n",
       "</tr>\n",
       "<tr>\n",
       "  <th>const</th>         <td>    3.5044</td> <td>    0.222</td> <td>   15.810</td> <td> 0.000</td> <td>    3.070</td> <td>    3.939</td>\n",
       "</tr>\n",
       "<tr>\n",
       "  <th>alpha</th>         <td>   31.1725</td> <td>   12.969</td> <td>    2.404</td> <td> 0.016</td> <td>    5.754</td> <td>   56.591</td>\n",
       "</tr>\n",
       "</table>"
      ],
      "text/plain": [
       "<class 'statsmodels.iolib.summary.Summary'>\n",
       "\"\"\"\n",
       "                     ZeroInflatedNegativeBinomialP Regression Results                    \n",
       "=========================================================================================\n",
       "Dep. Variable:                            Counts   No. Observations:                   57\n",
       "Model:             ZeroInflatedNegativeBinomialP   Df Residuals:                       56\n",
       "Method:                                      MLE   Df Model:                            0\n",
       "Date:                           Thu, 06 Jan 2022   Pseudo R-squ.:               6.547e-13\n",
       "Time:                                   00:09:43   Log-Likelihood:                -127.21\n",
       "converged:                                  True   LL-Null:                       -127.21\n",
       "Covariance Type:                       nonrobust   LLR p-value:                       nan\n",
       "=================================================================================\n",
       "                    coef    std err          z      P>|z|      [0.025      0.975]\n",
       "---------------------------------------------------------------------------------\n",
       "inflate_const     0.3592      0.175      2.050      0.040       0.016       0.703\n",
       "const             3.5044      0.222     15.810      0.000       3.070       3.939\n",
       "alpha            31.1725     12.969      2.404      0.016       5.754      56.591\n",
       "=================================================================================\n",
       "\"\"\""
      ]
     },
     "execution_count": 99,
     "metadata": {},
     "output_type": "execute_result"
    }
   ],
   "source": [
    "zinb_model.summary()"
   ]
  },
  {
   "cell_type": "code",
   "execution_count": 135,
   "id": "9c79529b-7dd5-40d7-ac27-bd4aabcf7c02",
   "metadata": {},
   "outputs": [
    {
     "data": {
      "text/plain": [
       "(11.964912280701755,\n",
       " 1494.5720843842748,\n",
       " 0.008005577252321684,\n",
       " 0.09655904043804718)"
      ]
     },
     "execution_count": 135,
     "metadata": {},
     "output_type": "execute_result"
    }
   ],
   "source": [
    "m = nb_model\n",
    "mu = np.exp(m.params[0])\n",
    "alpha = m.params[1]\n",
    "\n",
    "var = mu + alpha*mu**2\n",
    "p = mu / var\n",
    "n = mu * p / (1-p)\n",
    "mu, var, p, n "
   ]
  },
  {
   "cell_type": "code",
   "execution_count": 136,
   "id": "0959268d-9437-41e3-86cc-1dce6ae5aca2",
   "metadata": {},
   "outputs": [
    {
     "data": {
      "text/plain": [
       "<matplotlib.legend.Legend at 0x7f67735ea518>"
      ]
     },
     "execution_count": 136,
     "metadata": {},
     "output_type": "execute_result"
    },
    {
     "data": {
      "image/png": "[encoded data removed]",
      "text/plain": [
       "<Figure size 432x288 with 1 Axes>"
      ]
     },
     "metadata": {
      "needs_background": "light"
     },
     "output_type": "display_data"
    }
   ],
   "source": [
    "xhat = np.arange(0, 100)\n",
    "nb = stats.nbinom(n=n, p=p)\n",
    "yhat = nb.pmf(xhat)\n",
    "q=0.95\n",
    "\n",
    "limit = nb.ppf(q)\n",
    "\n",
    "fig, ax = plt.subplots(ncols=1)\n",
    "\n",
    "h = ax.hist(df.Counts, bins=xhat.shape[0], label='observation')\n",
    "\n",
    "ax.bar(xhat+0.5, yhat*100, alpha=0.4, width=2, label='estimated')\n",
    "\n",
    "ax.vlines(x=limit, ymin=0, ymax=h[0].max(),\n",
    "          color='C1', linestyle=':')\n",
    "\n",
    "ax.text(nb.ppf(q), h[0].max(), \n",
    "        s=f'Limit\\nP(X>x): {100-100*nb.cdf(limit):0.1f} %')\n",
    "\n",
    "ax.set_ylabel('Frequency')\n",
    "ax.set_xlabel('Microbial Counts')\n",
    "\n",
    "ax.legend(loc=1)"
   ]
  },
  {
   "cell_type": "markdown",
   "id": "e5da82d0-3a74-43bf-9fd6-8a7c4460efae",
   "metadata": {},
   "source": [
    "# Zero inflated model"
   ]
  },
  {
   "cell_type": "code",
   "execution_count": 130,
   "id": "a5df3ee7-5f0f-4418-b684-6a37d2e6bd1b",
   "metadata": {},
   "outputs": [
    {
     "data": {
      "text/html": [
       "<table class=\"simpletable\">\n",
       "<caption>ZeroInflatedNegativeBinomialP Regression Results</caption>\n",
       "<tr>\n",
       "  <th>Dep. Variable:</th>              <td>Counts</td>             <th>  No. Observations:  </th>  <td>    57</td>  \n",
       "</tr>\n",
       "<tr>\n",
       "  <th>Model:</th>           <td>ZeroInflatedNegativeBinomialP</td> <th>  Df Residuals:      </th>  <td>    56</td>  \n",
       "</tr>\n",
       "<tr>\n",
       "  <th>Method:</th>                       <td>MLE</td>              <th>  Df Model:          </th>  <td>     0</td>  \n",
       "</tr>\n",
       "<tr>\n",
       "  <th>Date:</th>                  <td>Thu, 06 Jan 2022</td>        <th>  Pseudo R-squ.:     </th> <td>6.547e-13</td>\n",
       "</tr>\n",
       "<tr>\n",
       "  <th>Time:</th>                      <td>00:19:33</td>            <th>  Log-Likelihood:    </th> <td> -127.21</td> \n",
       "</tr>\n",
       "<tr>\n",
       "  <th>converged:</th>                   <td>True</td>              <th>  LL-Null:           </th> <td> -127.21</td> \n",
       "</tr>\n",
       "<tr>\n",
       "  <th>Covariance Type:</th>           <td>nonrobust</td>           <th>  LLR p-value:       </th>  <td>   nan</td>  \n",
       "</tr>\n",
       "</table>\n",
       "<table class=\"simpletable\">\n",
       "<tr>\n",
       "        <td></td>           <th>coef</th>     <th>std err</th>      <th>z</th>      <th>P>|z|</th>  <th>[0.025</th>    <th>0.975]</th>  \n",
       "</tr>\n",
       "<tr>\n",
       "  <th>inflate_const</th> <td>    0.3592</td> <td>    0.175</td> <td>    2.050</td> <td> 0.040</td> <td>    0.016</td> <td>    0.703</td>\n",
       "</tr>\n",
       "<tr>\n",
       "  <th>const</th>         <td>    3.5044</td> <td>    0.222</td> <td>   15.810</td> <td> 0.000</td> <td>    3.070</td> <td>    3.939</td>\n",
       "</tr>\n",
       "<tr>\n",
       "  <th>alpha</th>         <td>   31.1725</td> <td>   12.969</td> <td>    2.404</td> <td> 0.016</td> <td>    5.754</td> <td>   56.591</td>\n",
       "</tr>\n",
       "</table>"
      ],
      "text/plain": [
       "<class 'statsmodels.iolib.summary.Summary'>\n",
       "\"\"\"\n",
       "                     ZeroInflatedNegativeBinomialP Regression Results                    \n",
       "=========================================================================================\n",
       "Dep. Variable:                            Counts   No. Observations:                   57\n",
       "Model:             ZeroInflatedNegativeBinomialP   Df Residuals:                       56\n",
       "Method:                                      MLE   Df Model:                            0\n",
       "Date:                           Thu, 06 Jan 2022   Pseudo R-squ.:               6.547e-13\n",
       "Time:                                   00:19:33   Log-Likelihood:                -127.21\n",
       "converged:                                  True   LL-Null:                       -127.21\n",
       "Covariance Type:                       nonrobust   LLR p-value:                       nan\n",
       "=================================================================================\n",
       "                    coef    std err          z      P>|z|      [0.025      0.975]\n",
       "---------------------------------------------------------------------------------\n",
       "inflate_const     0.3592      0.175      2.050      0.040       0.016       0.703\n",
       "const             3.5044      0.222     15.810      0.000       3.070       3.939\n",
       "alpha            31.1725     12.969      2.404      0.016       5.754      56.591\n",
       "=================================================================================\n",
       "\"\"\""
      ]
     },
     "execution_count": 130,
     "metadata": {},
     "output_type": "execute_result"
    }
   ],
   "source": [
    "zinb_model.summary()"
   ]
  },
  {
   "cell_type": "code",
   "execution_count": 131,
   "id": "742d628d-680d-4844-a251-5ea52d0590be",
   "metadata": {},
   "outputs": [
    {
     "data": {
      "text/plain": [
       "(33.25992067703615,\n",
       " 34516.9873757246,\n",
       " 0.0009635812162572295,\n",
       " 0.03207954606661331)"
      ]
     },
     "execution_count": 131,
     "metadata": {},
     "output_type": "execute_result"
    }
   ],
   "source": [
    "m = zinb_model\n",
    "mu = np.exp(m.params[1])\n",
    "alpha = m.params[2]\n",
    "\n",
    "var = mu + alpha*mu**2\n",
    "p = mu / var\n",
    "n = mu * p / (1-p)\n",
    "mu, var, p, n"
   ]
  },
  {
   "cell_type": "code",
   "execution_count": 132,
   "id": "e96c7481-d6bd-43d5-b13b-5c42d4934170",
   "metadata": {},
   "outputs": [
    {
     "data": {
      "text/plain": [
       "<matplotlib.legend.Legend at 0x7f67738da278>"
      ]
     },
     "execution_count": 132,
     "metadata": {},
     "output_type": "execute_result"
    },
    {
     "data": {
      "image/png": "[encoded data removed]",
      "text/plain": [
       "<Figure size 432x288 with 1 Axes>"
      ]
     },
     "metadata": {
      "needs_background": "light"
     },
     "output_type": "display_data"
    }
   ],
   "source": [
    "xhat = np.arange(0, 100)\n",
    "nb = stats.nbinom(n=n, p=p)\n",
    "yhat = nb.pmf(xhat)\n",
    "q=0.95\n",
    "\n",
    "limit = nb.ppf(q)\n",
    "\n",
    "fig, ax = plt.subplots(ncols=1)\n",
    "\n",
    "h = ax.hist(df.Counts, bins=xhat.shape[0], label='observation')\n",
    "\n",
    "ax.bar(xhat+0.5, yhat*100, alpha=0.4, width=2, label='estimated')\n",
    "\n",
    "ax.vlines(x=limit, ymin=0, ymax=h[0].max(),\n",
    "          color='C1', linestyle=':')\n",
    "\n",
    "ax.text(nb.ppf(q), h[0].max(), \n",
    "        s=f'Limit\\nP(X>x): {100-100*nb.cdf(limit):0.1f} %')\n",
    "\n",
    "ax.set_ylabel('Frequency')\n",
    "ax.set_xlabel('Microbial Counts')\n",
    "\n",
    "ax.legend(loc=1)"
   ]
  }
 ],
 "metadata": {
  "hide_input": false,
  "kernelspec": {
   "display_name": "Python 3",
   "language": "python",
   "name": "python3"
  },
  "language_info": {
   "codemirror_mode": {
    "name": "ipython",
    "version": 3
   },
   "file_extension": ".py",
   "mimetype": "text/x-python",
   "name": "python",
   "nbconvert_exporter": "python",
   "pygments_lexer": "ipython3",
   "version": "3.6.11"
  },
  "latex_envs": {
   "LaTeX_envs_menu_present": true,
   "autoclose": false,
   "autocomplete": true,
   "bibliofile": "biblio.bib",
   "cite_by": "apalike",
   "current_citInitial": 1,
   "eqLabelWithNumbers": true,
   "eqNumInitial": 1,
   "hotkeys": {
    "equation": "Ctrl-E",
    "itemize": "Ctrl-I"
   },
   "labels_anchors": false,
   "latex_user_defs": false,
   "report_style_numbering": false,
   "user_envs_cfg": false
  }
 },
 "nbformat": 4,
 "nbformat_minor": 5
}
